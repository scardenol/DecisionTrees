{
  "nbformat": 4,
  "nbformat_minor": 0,
  "metadata": {
    "colab": {
      "name": "symbolic_taylor.ipynb",
      "provenance": [],
      "collapsed_sections": [],
      "authorship_tag": "ABX9TyMKzfhaArXqTUtd+gy5li/R",
      "include_colab_link": true
    },
    "kernelspec": {
      "name": "python3",
      "display_name": "Python 3"
    },
    "language_info": {
      "name": "python"
    }
  },
  "cells": [
    {
      "cell_type": "markdown",
      "metadata": {
        "id": "view-in-github",
        "colab_type": "text"
      },
      "source": [
        "<a href=\"https://colab.research.google.com/github/scardenol/DecisionTrees/blob/main/symbolic_taylor.ipynb\" target=\"_parent\"><img src=\"https://colab.research.google.com/assets/colab-badge.svg\" alt=\"Open In Colab\"/></a>"
      ]
    },
    {
      "cell_type": "markdown",
      "source": [
        "# Functions"
      ],
      "metadata": {
        "id": "FszX8g_3e1eC"
      }
    },
    {
      "cell_type": "code",
      "source": [
        "import sympy as sp\n",
        "from sympy import symbols, init_printing, Function, sympify, Derivative, simplify, ordered\n",
        "from sympy import factorial, Matrix, prod\n",
        "init_printing(use_latex='mathjax') # Printing preferences\n",
        "import itertools\n",
        "\n",
        "\n",
        "def Taylor_polynomial_sympy(function_expression: 'symbolic',\n",
        "                            variable_list: list,\n",
        "                            evaluation_point: list,\n",
        "                            degree: int) -> 'symbolic':\n",
        "\n",
        "  n_var = len(variable_list)\n",
        "  point_coordinates = [(i, j) for i, j in (zip(variable_list, evaluation_point))]  # list of tuples with variables and their evaluation_point coordinates, to later perform substitution\n",
        "\n",
        "  deriv_orders = list(itertools.product(range(degree + 1), repeat=n_var))  # list with exponentials of the partial derivatives\n",
        "  deriv_orders = [deriv_orders[i] for i in range(len(deriv_orders)) if sum(deriv_orders[i]) <= degree]  # Discarding some higher-order terms\n",
        "  n_terms = len(deriv_orders)\n",
        "  deriv_orders_as_input = [list(sum(list(zip(variable_list, deriv_orders[i])), ())) for i in range(n_terms)]  # Individual degree of each partial derivative, of each term\n",
        "\n",
        "  polynomial = 0\n",
        "  for i in range(n_terms):\n",
        "    partial_derivatives_at_point = function_expression.diff(*deriv_orders_as_input[i]).subs(point_coordinates)  # e.g. df/(dx*dy**2)\n",
        "    denominator = prod([factorial(j) for j in deriv_orders[i]])  # e.g. (1! * 2!)\n",
        "    distances_powered = prod([(Matrix(variable_list) - Matrix(evaluation_point))[j] ** deriv_orders[i][j] for j in range(n_var)])  # e.g. (x-x0)*(y-y0)**2\n",
        "    polynomial += partial_derivatives_at_point / denominator * distances_powered\n",
        "  return polynomial\n",
        "\n",
        "\n",
        "def Model_taylor_sympy(taylor_serie: 'symbolic') -> '(symbolic, symbolic)':\n",
        "\n",
        "  # Convert Serie to list\n",
        "  S = list(sympify((sympify(taylor_serie, evaluate=False)).args))\n",
        "  M = S.copy() # Copy the list to use for the model\n",
        "\n",
        "  # Check for derivatives\n",
        "  # Substitue derivatives from Serie List with parameters (cleaner than from Serie)\n",
        "  d = [list(i.atoms(Derivative)) for i in M]\n",
        "  d_unpacked = [x for l in d for x in l] # this unpacks it but gets messy if a list had more than 1 element\n",
        "  \n",
        "  # if d_unpacked is empty it means there are no derivatives in the serie\n",
        "  A = [];\n",
        "\n",
        "  if len(d_unpacked) != 0:  # if there are derivatives\n",
        "    indexes = [idx for idx in range(len(d)) if len(d[idx])] # Get indexes\n",
        "\n",
        "    for i in indexes:\n",
        "      A_aux = sympify(['a' + str(_) for _ in range(len(A), len(A) + 1)])\n",
        "      A += A_aux\n",
        "      M[i] = simplify(M[i].subs(list(ordered(d[i]))[0], A_aux[0]))\n",
        "    \n",
        "    # Clean the f(c) termn at the end\n",
        "    A_aux = sympify(['a' + str(_) for _ in range(len(A), len(A) + 1)])\n",
        "    A += A_aux\n",
        "    M[-1] = A_aux[0]\n",
        "  \n",
        "  return M, A"
      ],
      "metadata": {
        "id": "B47Ery80kt-a"
      },
      "execution_count": 125,
      "outputs": []
    },
    {
      "cell_type": "markdown",
      "source": [
        "# Implementación"
      ],
      "metadata": {
        "id": "2Biy9tEle7Q-"
      }
    },
    {
      "cell_type": "code",
      "source": [
        "# Model F(x1, x2, ..., xn) where n is n_vars\n",
        "\n",
        "n_vars = 2 # Num of variables = num of columns\n",
        "vars = sp.symbols('x0:'+str(n_vars)) # List of variables\n",
        "center = [0]*len(vars)\n",
        "\n",
        "f = sp.Function('f')\n",
        "fun = f(sum(vars)) # f(x1+x2+...+xn)\n",
        "deg = 4 # max degree of taylor poly.\n",
        "F = Taylor_polynomial_sympy(fun, vars, center, deg)\n",
        "\n",
        "# Generate the model\n",
        "M, A = Model_taylor_sympy(F)\n",
        "model = sum(M)\n",
        "model"
      ],
      "metadata": {
        "colab": {
          "base_uri": "https://localhost:8080/",
          "height": 54
        },
        "id": "wWs5nxzMMDDb",
        "outputId": "c2f062e3-9a23-4dd3-9b0f-9924624b26a9"
      },
      "execution_count": 124,
      "outputs": [
        {
          "output_type": "execute_result",
          "data": {
            "text/plain": [
              "                      2            2   2            3         3               \n",
              "                a₁₀⋅x₀ ⋅x₁   a₁₁⋅x₀ ⋅x₁    a₁₂⋅x₀⋅x₁    a₁₃⋅x₀ ⋅x₁         a₂⋅\n",
              "a₀⋅x₀ + a₁⋅x₁ + ────────── + ─────────── + ────────── + ────────── + a₁₄ + ───\n",
              "                    2             4            6            6                2\n",
              "\n",
              "  2        2        3        3        4        4                      2\n",
              "x₀    a₃⋅x₁    a₄⋅x₀    a₅⋅x₁    a₆⋅x₀    a₇⋅x₁               a₉⋅x₀⋅x₁ \n",
              "─── + ────── + ────── + ────── + ────── + ────── + a₈⋅x₀⋅x₁ + ─────────\n",
              "        2        6        6        24       24                    2    "
            ],
            "text/latex": "$\\displaystyle a_{0} x_{0} + a_{1} x_{1} + \\frac{a_{10} x_{0}^{2} x_{1}}{2} + \\frac{a_{11} x_{0}^{2} x_{1}^{2}}{4} + \\frac{a_{12} x_{0} x_{1}^{3}}{6} + \\frac{a_{13} x_{0}^{3} x_{1}}{6} + a_{14} + \\frac{a_{2} x_{0}^{2}}{2} + \\frac{a_{3} x_{1}^{2}}{2} + \\frac{a_{4} x_{0}^{3}}{6} + \\frac{a_{5} x_{1}^{3}}{6} + \\frac{a_{6} x_{0}^{4}}{24} + \\frac{a_{7} x_{1}^{4}}{24} + a_{8} x_{0} x_{1} + \\frac{a_{9} x_{0} x_{1}^{2}}{2}$"
          },
          "metadata": {},
          "execution_count": 124
        }
      ]
    },
    {
      "cell_type": "code",
      "source": [
        "par = list(vars) + A\n",
        "display(par) # Order of function parameters\n",
        "fun = sp.lambdify(par, model, 'numpy')"
      ],
      "metadata": {
        "colab": {
          "base_uri": "https://localhost:8080/",
          "height": 38
        },
        "id": "Z_eVGZTAb1H9",
        "outputId": "83f22071-cb56-45bc-c29b-f0b53fffcec8"
      },
      "execution_count": 121,
      "outputs": [
        {
          "output_type": "display_data",
          "data": {
            "text/plain": [
              "[x₀, x₁, a₀, a₁, a₂, a₃, a₄, a₅, a₆, a₇, a₈, a₉, a₁₀, a₁₁, a₁₂, a₁₃, a₁₄]"
            ],
            "text/latex": "$\\displaystyle \\left[ x_{0}, \\  x_{1}, \\  a_{0}, \\  a_{1}, \\  a_{2}, \\  a_{3}, \\  a_{4}, \\  a_{5}, \\  a_{6}, \\  a_{7}, \\  a_{8}, \\  a_{9}, \\  a_{10}, \\  a_{11}, \\  a_{12}, \\  a_{13}, \\  a_{14}\\right]$"
          },
          "metadata": {}
        }
      ]
    }
  ]
}